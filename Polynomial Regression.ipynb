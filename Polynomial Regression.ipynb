{
 "cells": [
  {
   "cell_type": "markdown",
   "id": "69a1c7fa-5e3b-4822-81b5-0bc44e28d9a6",
   "metadata": {},
   "source": [
    "# Simple Linear Regression"
   ]
  },
  {
   "cell_type": "markdown",
   "id": "bf6f34a5-e639-474b-bc91-02e22ae3c417",
   "metadata": {},
   "source": [
    "I will use Used Car Price Data from www.kaggle.com/ankits29/used-car-price-data to do simple linear regression."
   ]
  },
  {
   "cell_type": "code",
   "execution_count": 32,
   "id": "e62a1a5c-6d32-4570-996d-47fa40f2805d",
   "metadata": {},
   "outputs": [],
   "source": [
    "#import required libraries\n",
    "\n",
    "import pandas as pd\n",
    "import numpy as np"
   ]
  },
  {
   "cell_type": "code",
   "execution_count": 2,
   "id": "774e6fa1-14d5-41d1-982c-317c51c827d2",
   "metadata": {},
   "outputs": [],
   "source": [
    "#read the data .csv file\n",
    "\n",
    "df = pd.read_csv('car_data.csv')"
   ]
  },
  {
   "cell_type": "code",
   "execution_count": 3,
   "id": "bfd70fd3-23d9-4ffe-b204-df11a10a79ca",
   "metadata": {},
   "outputs": [
    {
     "data": {
      "text/html": [
       "<div>\n",
       "<style scoped>\n",
       "    .dataframe tbody tr th:only-of-type {\n",
       "        vertical-align: middle;\n",
       "    }\n",
       "\n",
       "    .dataframe tbody tr th {\n",
       "        vertical-align: top;\n",
       "    }\n",
       "\n",
       "    .dataframe thead th {\n",
       "        text-align: right;\n",
       "    }\n",
       "</style>\n",
       "<table border=\"1\" class=\"dataframe\">\n",
       "  <thead>\n",
       "    <tr style=\"text-align: right;\">\n",
       "      <th></th>\n",
       "      <th>Model</th>\n",
       "      <th>Selling Price</th>\n",
       "      <th>Kilometers Driven</th>\n",
       "      <th>Year</th>\n",
       "      <th>Owner</th>\n",
       "      <th>Fuel Type</th>\n",
       "      <th>Transmission</th>\n",
       "      <th>Insurance</th>\n",
       "      <th>Car Condition</th>\n",
       "    </tr>\n",
       "  </thead>\n",
       "  <tbody>\n",
       "    <tr>\n",
       "      <th>0</th>\n",
       "      <td>MarutiWagonR1.0LXI</td>\n",
       "      <td>312165</td>\n",
       "      <td>82238</td>\n",
       "      <td>2014</td>\n",
       "      <td>First Owner</td>\n",
       "      <td>Petrol + CNG</td>\n",
       "      <td>MANUAL</td>\n",
       "      <td>Expired</td>\n",
       "      <td>4.2</td>\n",
       "    </tr>\n",
       "    <tr>\n",
       "      <th>1</th>\n",
       "      <td>ToyotaEtiosLiva</td>\n",
       "      <td>313799</td>\n",
       "      <td>30558</td>\n",
       "      <td>2013</td>\n",
       "      <td>First Owner</td>\n",
       "      <td>Petrol</td>\n",
       "      <td>MANUAL</td>\n",
       "      <td>12-09-2021</td>\n",
       "      <td>4.4</td>\n",
       "    </tr>\n",
       "    <tr>\n",
       "      <th>2</th>\n",
       "      <td>MarutiAlto800</td>\n",
       "      <td>295999</td>\n",
       "      <td>22164</td>\n",
       "      <td>2018</td>\n",
       "      <td>First Owner</td>\n",
       "      <td>Petrol</td>\n",
       "      <td>MANUAL</td>\n",
       "      <td>01-12-2020</td>\n",
       "      <td>4.8</td>\n",
       "    </tr>\n",
       "    <tr>\n",
       "      <th>3</th>\n",
       "      <td>MarutiSwift</td>\n",
       "      <td>435199</td>\n",
       "      <td>30535</td>\n",
       "      <td>2013</td>\n",
       "      <td>First Owner</td>\n",
       "      <td>Diesel</td>\n",
       "      <td>MANUAL</td>\n",
       "      <td>Comp</td>\n",
       "      <td>4.3</td>\n",
       "    </tr>\n",
       "    <tr>\n",
       "      <th>4</th>\n",
       "      <td>MarutiWagonR1.0</td>\n",
       "      <td>289099</td>\n",
       "      <td>15738</td>\n",
       "      <td>2013</td>\n",
       "      <td>First Owner</td>\n",
       "      <td>Petrol</td>\n",
       "      <td>MANUAL</td>\n",
       "      <td>11-08-2021</td>\n",
       "      <td>4.3</td>\n",
       "    </tr>\n",
       "  </tbody>\n",
       "</table>\n",
       "</div>"
      ],
      "text/plain": [
       "                Model  Selling Price  Kilometers Driven  Year        Owner  \\\n",
       "0  MarutiWagonR1.0LXI         312165              82238  2014  First Owner   \n",
       "1     ToyotaEtiosLiva         313799              30558  2013  First Owner   \n",
       "2       MarutiAlto800         295999              22164  2018  First Owner   \n",
       "3         MarutiSwift         435199              30535  2013  First Owner   \n",
       "4     MarutiWagonR1.0         289099              15738  2013  First Owner   \n",
       "\n",
       "      Fuel Type Transmission   Insurance  Car Condition  \n",
       "0  Petrol + CNG       MANUAL     Expired            4.2  \n",
       "1        Petrol       MANUAL  12-09-2021            4.4  \n",
       "2        Petrol       MANUAL  01-12-2020            4.8  \n",
       "3        Diesel       MANUAL        Comp            4.3  \n",
       "4        Petrol       MANUAL  11-08-2021            4.3  "
      ]
     },
     "execution_count": 3,
     "metadata": {},
     "output_type": "execute_result"
    }
   ],
   "source": [
    "#see the data head\n",
    "\n",
    "pd.set_option('display.max_columns', None)\n",
    "df.head()"
   ]
  },
  {
   "cell_type": "code",
   "execution_count": 4,
   "id": "c63b2d16-f6b0-400b-b347-962e86b57608",
   "metadata": {},
   "outputs": [
    {
     "data": {
      "text/plain": [
       "(2237, 9)"
      ]
     },
     "execution_count": 4,
     "metadata": {},
     "output_type": "execute_result"
    }
   ],
   "source": [
    "#see how many rows there are\n",
    "\n",
    "df.shape"
   ]
  },
  {
   "cell_type": "code",
   "execution_count": 5,
   "id": "8321713f-5cc5-429b-8733-5832efc1ee9d",
   "metadata": {},
   "outputs": [],
   "source": [
    "#drop duplicates\n",
    "\n",
    "df.drop_duplicates(inplace=True)"
   ]
  },
  {
   "cell_type": "code",
   "execution_count": 6,
   "id": "5fa4ac86-752c-4e83-80a3-32d03228220c",
   "metadata": {},
   "outputs": [
    {
     "data": {
      "text/plain": [
       "(2237, 9)"
      ]
     },
     "execution_count": 6,
     "metadata": {},
     "output_type": "execute_result"
    }
   ],
   "source": [
    "#see how many rows there are after duplicates dropped\n",
    "\n",
    "df.shape"
   ]
  },
  {
   "cell_type": "code",
   "execution_count": 7,
   "id": "85ed4c9a-3a38-4d08-9063-b4149bcf2252",
   "metadata": {},
   "outputs": [
    {
     "data": {
      "text/html": [
       "<div>\n",
       "<style scoped>\n",
       "    .dataframe tbody tr th:only-of-type {\n",
       "        vertical-align: middle;\n",
       "    }\n",
       "\n",
       "    .dataframe tbody tr th {\n",
       "        vertical-align: top;\n",
       "    }\n",
       "\n",
       "    .dataframe thead th {\n",
       "        text-align: right;\n",
       "    }\n",
       "</style>\n",
       "<table border=\"1\" class=\"dataframe\">\n",
       "  <thead>\n",
       "    <tr style=\"text-align: right;\">\n",
       "      <th></th>\n",
       "      <th>Selling Price</th>\n",
       "      <th>Kilometers Driven</th>\n",
       "      <th>Year</th>\n",
       "      <th>Car Condition</th>\n",
       "    </tr>\n",
       "  </thead>\n",
       "  <tbody>\n",
       "    <tr>\n",
       "      <th>Selling Price</th>\n",
       "      <td>1.000000</td>\n",
       "      <td>-0.163254</td>\n",
       "      <td>0.568156</td>\n",
       "      <td>0.435813</td>\n",
       "    </tr>\n",
       "    <tr>\n",
       "      <th>Kilometers Driven</th>\n",
       "      <td>-0.163254</td>\n",
       "      <td>1.000000</td>\n",
       "      <td>-0.427502</td>\n",
       "      <td>-0.450421</td>\n",
       "    </tr>\n",
       "    <tr>\n",
       "      <th>Year</th>\n",
       "      <td>0.568156</td>\n",
       "      <td>-0.427502</td>\n",
       "      <td>1.000000</td>\n",
       "      <td>0.649011</td>\n",
       "    </tr>\n",
       "    <tr>\n",
       "      <th>Car Condition</th>\n",
       "      <td>0.435813</td>\n",
       "      <td>-0.450421</td>\n",
       "      <td>0.649011</td>\n",
       "      <td>1.000000</td>\n",
       "    </tr>\n",
       "  </tbody>\n",
       "</table>\n",
       "</div>"
      ],
      "text/plain": [
       "                   Selling Price  Kilometers Driven      Year  Car Condition\n",
       "Selling Price           1.000000          -0.163254  0.568156       0.435813\n",
       "Kilometers Driven      -0.163254           1.000000 -0.427502      -0.450421\n",
       "Year                    0.568156          -0.427502  1.000000       0.649011\n",
       "Car Condition           0.435813          -0.450421  0.649011       1.000000"
      ]
     },
     "execution_count": 7,
     "metadata": {},
     "output_type": "execute_result"
    }
   ],
   "source": [
    "#see correlation between variables\n",
    "\n",
    "df.corr()"
   ]
  },
  {
   "cell_type": "markdown",
   "id": "24db2829-01c5-45fa-8c7a-870fec02df1e",
   "metadata": {},
   "source": [
    "For this polynomial regression. let's use indpendent variable with highest correlation 'Year'."
   ]
  },
  {
   "cell_type": "markdown",
   "id": "8a225408-b95e-4122-b128-db6ddddddfdb",
   "metadata": {},
   "source": [
    "# The best order with highest R-square?"
   ]
  },
  {
   "cell_type": "code",
   "execution_count": 9,
   "id": "f1dd18a7-0664-450d-8081-44fb299e496b",
   "metadata": {},
   "outputs": [],
   "source": [
    "y_data = df['Selling Price']\n",
    "x_data = df.drop('Selling Price',axis=1)"
   ]
  },
  {
   "cell_type": "code",
   "execution_count": 12,
   "id": "0f6adbb4-4efb-4236-a739-7b589a53dc69",
   "metadata": {},
   "outputs": [
    {
     "name": "stdout",
     "output_type": "stream",
     "text": [
      "Test sample rows : 560\n",
      "Training sample rows: 1677\n"
     ]
    }
   ],
   "source": [
    "from sklearn.model_selection import train_test_split\n",
    "\n",
    "x_train, x_test, y_train, y_test = train_test_split(x_data, y_data, test_size=0.25, random_state=1)\n",
    "\n",
    "print(\"Test sample rows :\", x_test.shape[0])\n",
    "print(\"Training sample rows:\",x_train.shape[0])"
   ]
  },
  {
   "cell_type": "code",
   "execution_count": 17,
   "id": "a7fbc6e7-45a5-4809-b146-09bbed049600",
   "metadata": {},
   "outputs": [],
   "source": [
    "from sklearn.preprocessing import PolynomialFeatures\n",
    "from sklearn.linear_model import LinearRegression\n",
    "import matplotlib.pyplot as plt\n",
    "%matplotlib inline\n",
    "import seaborn as sns"
   ]
  },
  {
   "cell_type": "code",
   "execution_count": 22,
   "id": "759bf49d-a6c1-488a-8c32-bed4da26b637",
   "metadata": {},
   "outputs": [
    {
     "data": {
      "text/plain": [
       "Text(0.5, 1.0, 'R-square Using Test Data')"
      ]
     },
     "execution_count": 22,
     "metadata": {},
     "output_type": "execute_result"
    },
    {
     "data": {
      "image/png": "[encoded data removed]",
      "text/plain": [
       "<Figure size 432x288 with 1 Axes>"
      ]
     },
     "metadata": {
      "needs_background": "light"
     },
     "output_type": "display_data"
    }
   ],
   "source": [
    "#using loop to figure best order for pol\n",
    "\n",
    "lr = LinearRegression()\n",
    "Rsqu_test = []\n",
    "\n",
    "order = [1, 2, 3, 4, 5, 6]\n",
    "for n in order:\n",
    "    pr = PolynomialFeatures(degree=n)\n",
    "    \n",
    "    x_train_pr = pr.fit_transform(x_train[['Year']])\n",
    "    \n",
    "    x_test_pr = pr.fit_transform(x_test[['Year']])    \n",
    "    \n",
    "    lr.fit(x_train_pr, y_train)\n",
    "    \n",
    "    Rsqu_test.append(lr.score(x_test_pr, y_test))\n",
    "\n",
    "plt.plot(order, Rsqu_test)\n",
    "plt.xlabel('Order')\n",
    "plt.ylabel('R-square')\n",
    "plt.title('R-square Using Test Data')"
   ]
  },
  {
   "cell_type": "markdown",
   "id": "5076718d-3ed4-492f-bf63-92acb8125338",
   "metadata": {},
   "source": [
    "We can see that second order have the best R-square, so second order polynomial will be used"
   ]
  },
  {
   "cell_type": "code",
   "execution_count": 29,
   "id": "be325b89-f4a1-4d51-8e08-17ccf8e0b087",
   "metadata": {},
   "outputs": [
    {
     "data": {
      "text/plain": [
       "LinearRegression()"
      ]
     },
     "execution_count": 29,
     "metadata": {},
     "output_type": "execute_result"
    }
   ],
   "source": [
    "#make the regression object\n",
    "\n",
    "pr = PolynomialFeatures(degree=2)\n",
    "\n",
    "x_train_pr = pr.fit_transform(x_train[['Year']])\n",
    "x_test_pr = pr.fit_transform(x_test[['Year']])\n",
    "\n",
    "poly = LinearRegression()\n",
    "poly.fit(x_train_pr, y_train)"
   ]
  },
  {
   "cell_type": "code",
   "execution_count": 34,
   "id": "53759ab6-34bd-4b8b-ac14-31b81b48649e",
   "metadata": {},
   "outputs": [],
   "source": [
    "#define function to make polynomial regression plot with separated data (train data and test data)\n",
    "\n",
    "def PollyPlot(xtrain, xtest, y_train, y_test, lr,poly_transform):\n",
    "    width = 12\n",
    "    height = 10\n",
    "    plt.figure(figsize=(width, height))\n",
    "    \n",
    "    \n",
    "    #training data \n",
    "    #testing data \n",
    "    # lr:  linear regression object \n",
    "    #poly_transform:  polynomial transformation object \n",
    " \n",
    "    xmax=max([xtrain.values.max(), xtest.values.max()])\n",
    "\n",
    "    xmin=min([xtrain.values.min(), xtest.values.min()])\n",
    "\n",
    "    x=np.arange(xmin, xmax, 0.1)\n",
    "\n",
    "\n",
    "    plt.plot(xtrain, y_train, 'ro', label='Training Data')\n",
    "    plt.plot(xtest, y_test, 'go', label='Test Data')\n",
    "    plt.plot(x, lr.predict(poly_transform.fit_transform(x.reshape(-1, 1))), label='Predicted Function')\n",
    "    plt.ylabel('Price')\n",
    "    plt.legend()"
   ]
  },
  {
   "cell_type": "code",
   "execution_count": 35,
   "id": "5c3611d6-bb96-4c1a-a840-388aaed174e3",
   "metadata": {},
   "outputs": [
    {
     "data": {
      "image/png": "[encoded data removed]",
      "text/plain": [
       "<Figure size 864x720 with 1 Axes>"
      ]
     },
     "metadata": {
      "needs_background": "light"
     },
     "output_type": "display_data"
    }
   ],
   "source": [
    "PollyPlot(x_train[['Year']], x_test[['Year']], y_train, y_test, poly,pr)"
   ]
  },
  {
   "cell_type": "markdown",
   "id": "be8bd67e-2a25-4695-ac97-14715a80282f",
   "metadata": {},
   "source": [
    "Let's see the residual plot"
   ]
  },
  {
   "cell_type": "code",
   "execution_count": 55,
   "id": "f3c5fc67-290c-4eb6-9d83-ce23397bd8f6",
   "metadata": {},
   "outputs": [
    {
     "data": {
      "image/png": "[encoded data removed]",
      "text/plain": [
       "<Figure size 864x720 with 1 Axes>"
      ]
     },
     "metadata": {
      "needs_background": "light"
     },
     "output_type": "display_data"
    }
   ],
   "source": [
    "#create residual plot\n",
    "\n",
    "plt.figure(figsize=(12, 10))\n",
    "sns.residplot(x=\"Year\", y=\"Selling Price\", data=df, order=2)\n",
    "plt.show()"
   ]
  },
  {
   "cell_type": "markdown",
   "id": "a3bd42b8-5fc5-4012-afa5-9095a60a4d42",
   "metadata": {},
   "source": [
    "Same as simple linear regression, variance is higher with later model."
   ]
  },
  {
   "cell_type": "code",
   "execution_count": 47,
   "id": "c413d906-5718-4f53-a63e-2085faab9cc9",
   "metadata": {},
   "outputs": [
    {
     "data": {
      "text/plain": [
       "0.31329641615918347"
      ]
     },
     "execution_count": 47,
     "metadata": {},
     "output_type": "execute_result"
    }
   ],
   "source": [
    "#see the R-square of model on test data\n",
    "\n",
    "poly.score(x_test_pr, y_test)"
   ]
  },
  {
   "cell_type": "markdown",
   "id": "87313240-172e-4de5-aad5-8c0de3e2808b",
   "metadata": {},
   "source": [
    "# Cross Validation"
   ]
  },
  {
   "cell_type": "code",
   "execution_count": 53,
   "id": "21e63387-f2c8-455f-97c5-3d40892bf849",
   "metadata": {},
   "outputs": [],
   "source": [
    "#import required library\n",
    "\n",
    "from sklearn.model_selection import cross_val_score"
   ]
  },
  {
   "cell_type": "code",
   "execution_count": 54,
   "id": "ccb31857-d156-4bfc-b5a8-f13b5fabdefe",
   "metadata": {},
   "outputs": [
    {
     "name": "stdout",
     "output_type": "stream",
     "text": [
      "Mean of the cross validation: 0.3224672748095695\n",
      "Standard deviation: 0.02533759959846611\n"
     ]
    }
   ],
   "source": [
    "#do cross validation to know optimal R-square of the model\n",
    "\n",
    "Rcross = cross_val_score(poly, x_data[['Year']], y_data, cv=4)\n",
    "\n",
    "print(\"Mean of the cross validation:\", Rcross.mean())\n",
    "print(\"Standard deviation:\" , Rcross.std())"
   ]
  },
  {
   "cell_type": "markdown",
   "id": "370f2ea8-c959-47fa-bd9b-465503230da4",
   "metadata": {},
   "source": [
    "Judging from the  mean of cross validation, linear regression and polynomial regression don't do well on this data. Perhaps categorical variable regression is better."
   ]
  },
  {
   "cell_type": "markdown",
   "id": "b4d99984-1ee1-49d4-80cb-350c78e95bdc",
   "metadata": {},
   "source": [
    "Created by Muhammad Ilham"
   ]
  }
 ],
 "metadata": {
  "kernelspec": {
   "display_name": "Python 3 (ipykernel)",
   "language": "python",
   "name": "python3"
  },
  "language_info": {
   "codemirror_mode": {
    "name": "ipython",
    "version": 3
   },
   "file_extension": ".py",
   "mimetype": "text/x-python",
   "name": "python",
   "nbconvert_exporter": "python",
   "pygments_lexer": "ipython3",
   "version": "3.10.1"
  }
 },
 "nbformat": 4,
 "nbformat_minor": 5
}
