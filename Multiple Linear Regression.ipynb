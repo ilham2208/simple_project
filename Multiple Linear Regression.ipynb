{
 "cells": [
  {
   "cell_type": "markdown",
   "id": "722e3cd7-965f-4f77-b8c5-59df5538e6e3",
   "metadata": {},
   "source": [
    "# Simple Linear Regression"
   ]
  },
  {
   "cell_type": "markdown",
   "id": "17c38607-60af-4384-8040-d723645450e6",
   "metadata": {},
   "source": [
    "I will use Used Car Price Data from www.kaggle.com/ankits29/used-car-price-data to do simple linear regression."
   ]
  },
  {
   "cell_type": "code",
   "execution_count": 1,
   "id": "d91fc289-f335-4e64-9b90-74b95c95903a",
   "metadata": {},
   "outputs": [],
   "source": [
    "#import required libraries\n",
    "\n",
    "import pandas as pd"
   ]
  },
  {
   "cell_type": "code",
   "execution_count": 2,
   "id": "85b2ee81-7a9f-47fe-9020-390b6f3810a3",
   "metadata": {},
   "outputs": [],
   "source": [
    "#read the data .csv file\n",
    "\n",
    "df = pd.read_csv('car_data.csv')"
   ]
  },
  {
   "cell_type": "code",
   "execution_count": 3,
   "id": "0b889569-2899-4098-b1f8-f468e7d85d9f",
   "metadata": {},
   "outputs": [
    {
     "data": {
      "text/html": [
       "<div>\n",
       "<style scoped>\n",
       "    .dataframe tbody tr th:only-of-type {\n",
       "        vertical-align: middle;\n",
       "    }\n",
       "\n",
       "    .dataframe tbody tr th {\n",
       "        vertical-align: top;\n",
       "    }\n",
       "\n",
       "    .dataframe thead th {\n",
       "        text-align: right;\n",
       "    }\n",
       "</style>\n",
       "<table border=\"1\" class=\"dataframe\">\n",
       "  <thead>\n",
       "    <tr style=\"text-align: right;\">\n",
       "      <th></th>\n",
       "      <th>Model</th>\n",
       "      <th>Selling Price</th>\n",
       "      <th>Kilometers Driven</th>\n",
       "      <th>Year</th>\n",
       "      <th>Owner</th>\n",
       "      <th>Fuel Type</th>\n",
       "      <th>Transmission</th>\n",
       "      <th>Insurance</th>\n",
       "      <th>Car Condition</th>\n",
       "    </tr>\n",
       "  </thead>\n",
       "  <tbody>\n",
       "    <tr>\n",
       "      <th>0</th>\n",
       "      <td>MarutiWagonR1.0LXI</td>\n",
       "      <td>312165</td>\n",
       "      <td>82238</td>\n",
       "      <td>2014</td>\n",
       "      <td>First Owner</td>\n",
       "      <td>Petrol + CNG</td>\n",
       "      <td>MANUAL</td>\n",
       "      <td>Expired</td>\n",
       "      <td>4.2</td>\n",
       "    </tr>\n",
       "    <tr>\n",
       "      <th>1</th>\n",
       "      <td>ToyotaEtiosLiva</td>\n",
       "      <td>313799</td>\n",
       "      <td>30558</td>\n",
       "      <td>2013</td>\n",
       "      <td>First Owner</td>\n",
       "      <td>Petrol</td>\n",
       "      <td>MANUAL</td>\n",
       "      <td>12-09-2021</td>\n",
       "      <td>4.4</td>\n",
       "    </tr>\n",
       "    <tr>\n",
       "      <th>2</th>\n",
       "      <td>MarutiAlto800</td>\n",
       "      <td>295999</td>\n",
       "      <td>22164</td>\n",
       "      <td>2018</td>\n",
       "      <td>First Owner</td>\n",
       "      <td>Petrol</td>\n",
       "      <td>MANUAL</td>\n",
       "      <td>01-12-2020</td>\n",
       "      <td>4.8</td>\n",
       "    </tr>\n",
       "    <tr>\n",
       "      <th>3</th>\n",
       "      <td>MarutiSwift</td>\n",
       "      <td>435199</td>\n",
       "      <td>30535</td>\n",
       "      <td>2013</td>\n",
       "      <td>First Owner</td>\n",
       "      <td>Diesel</td>\n",
       "      <td>MANUAL</td>\n",
       "      <td>Comp</td>\n",
       "      <td>4.3</td>\n",
       "    </tr>\n",
       "    <tr>\n",
       "      <th>4</th>\n",
       "      <td>MarutiWagonR1.0</td>\n",
       "      <td>289099</td>\n",
       "      <td>15738</td>\n",
       "      <td>2013</td>\n",
       "      <td>First Owner</td>\n",
       "      <td>Petrol</td>\n",
       "      <td>MANUAL</td>\n",
       "      <td>11-08-2021</td>\n",
       "      <td>4.3</td>\n",
       "    </tr>\n",
       "  </tbody>\n",
       "</table>\n",
       "</div>"
      ],
      "text/plain": [
       "                Model  Selling Price  Kilometers Driven  Year        Owner  \\\n",
       "0  MarutiWagonR1.0LXI         312165              82238  2014  First Owner   \n",
       "1     ToyotaEtiosLiva         313799              30558  2013  First Owner   \n",
       "2       MarutiAlto800         295999              22164  2018  First Owner   \n",
       "3         MarutiSwift         435199              30535  2013  First Owner   \n",
       "4     MarutiWagonR1.0         289099              15738  2013  First Owner   \n",
       "\n",
       "      Fuel Type Transmission   Insurance  Car Condition  \n",
       "0  Petrol + CNG       MANUAL     Expired            4.2  \n",
       "1        Petrol       MANUAL  12-09-2021            4.4  \n",
       "2        Petrol       MANUAL  01-12-2020            4.8  \n",
       "3        Diesel       MANUAL        Comp            4.3  \n",
       "4        Petrol       MANUAL  11-08-2021            4.3  "
      ]
     },
     "execution_count": 3,
     "metadata": {},
     "output_type": "execute_result"
    }
   ],
   "source": [
    "#see the data head\n",
    "\n",
    "pd.set_option('display.max_columns', None)\n",
    "df.head()"
   ]
  },
  {
   "cell_type": "code",
   "execution_count": 4,
   "id": "7d0825b3-c56a-437f-b119-6bb16b200f9d",
   "metadata": {},
   "outputs": [
    {
     "data": {
      "text/plain": [
       "(2237, 9)"
      ]
     },
     "execution_count": 4,
     "metadata": {},
     "output_type": "execute_result"
    }
   ],
   "source": [
    "#see how many rows there are\n",
    "\n",
    "df.shape"
   ]
  },
  {
   "cell_type": "code",
   "execution_count": 5,
   "id": "08992fb7-5104-4a4d-ae7e-c7283bbfe410",
   "metadata": {},
   "outputs": [],
   "source": [
    "#drop duplicates\n",
    "\n",
    "df.drop_duplicates(inplace=True)"
   ]
  },
  {
   "cell_type": "code",
   "execution_count": 6,
   "id": "065ee074-8608-4562-ba6f-6030c906e8d1",
   "metadata": {},
   "outputs": [
    {
     "data": {
      "text/plain": [
       "(2237, 9)"
      ]
     },
     "execution_count": 6,
     "metadata": {},
     "output_type": "execute_result"
    }
   ],
   "source": [
    "#see how many rows there are after duplicates dropped\n",
    "\n",
    "df.shape"
   ]
  },
  {
   "cell_type": "code",
   "execution_count": 7,
   "id": "a17286e2-ec08-4432-b60d-7a1c1f465219",
   "metadata": {},
   "outputs": [
    {
     "data": {
      "text/html": [
       "<div>\n",
       "<style scoped>\n",
       "    .dataframe tbody tr th:only-of-type {\n",
       "        vertical-align: middle;\n",
       "    }\n",
       "\n",
       "    .dataframe tbody tr th {\n",
       "        vertical-align: top;\n",
       "    }\n",
       "\n",
       "    .dataframe thead th {\n",
       "        text-align: right;\n",
       "    }\n",
       "</style>\n",
       "<table border=\"1\" class=\"dataframe\">\n",
       "  <thead>\n",
       "    <tr style=\"text-align: right;\">\n",
       "      <th></th>\n",
       "      <th>Selling Price</th>\n",
       "      <th>Kilometers Driven</th>\n",
       "      <th>Year</th>\n",
       "      <th>Car Condition</th>\n",
       "    </tr>\n",
       "  </thead>\n",
       "  <tbody>\n",
       "    <tr>\n",
       "      <th>Selling Price</th>\n",
       "      <td>1.000000</td>\n",
       "      <td>-0.163254</td>\n",
       "      <td>0.568156</td>\n",
       "      <td>0.435813</td>\n",
       "    </tr>\n",
       "    <tr>\n",
       "      <th>Kilometers Driven</th>\n",
       "      <td>-0.163254</td>\n",
       "      <td>1.000000</td>\n",
       "      <td>-0.427502</td>\n",
       "      <td>-0.450421</td>\n",
       "    </tr>\n",
       "    <tr>\n",
       "      <th>Year</th>\n",
       "      <td>0.568156</td>\n",
       "      <td>-0.427502</td>\n",
       "      <td>1.000000</td>\n",
       "      <td>0.649011</td>\n",
       "    </tr>\n",
       "    <tr>\n",
       "      <th>Car Condition</th>\n",
       "      <td>0.435813</td>\n",
       "      <td>-0.450421</td>\n",
       "      <td>0.649011</td>\n",
       "      <td>1.000000</td>\n",
       "    </tr>\n",
       "  </tbody>\n",
       "</table>\n",
       "</div>"
      ],
      "text/plain": [
       "                   Selling Price  Kilometers Driven      Year  Car Condition\n",
       "Selling Price           1.000000          -0.163254  0.568156       0.435813\n",
       "Kilometers Driven      -0.163254           1.000000 -0.427502      -0.450421\n",
       "Year                    0.568156          -0.427502  1.000000       0.649011\n",
       "Car Condition           0.435813          -0.450421  0.649011       1.000000"
      ]
     },
     "execution_count": 7,
     "metadata": {},
     "output_type": "execute_result"
    }
   ],
   "source": [
    "#see correlation between variables\n",
    "\n",
    "df.corr()"
   ]
  },
  {
   "cell_type": "markdown",
   "id": "147cd374-04c8-45d1-8c6b-ffd1c29d17d4",
   "metadata": {},
   "source": [
    "For this multiple linear regression. let's use independent variables with highest correlation 'Year' and 'Car Condition'."
   ]
  },
  {
   "cell_type": "code",
   "execution_count": 8,
   "id": "e42e58bb-c1e3-4e81-9f57-190f941fa7b5",
   "metadata": {},
   "outputs": [],
   "source": [
    "#import required libraries\n",
    "\n",
    "from sklearn.linear_model import LinearRegression"
   ]
  },
  {
   "cell_type": "code",
   "execution_count": 31,
   "id": "947003ef-377d-4211-90bb-57921ed3e5f1",
   "metadata": {},
   "outputs": [],
   "source": [
    "#create object to select which variable will be used\n",
    "\n",
    "Z = df[['Year', 'Car Condition']]"
   ]
  },
  {
   "cell_type": "code",
   "execution_count": 32,
   "id": "6f3c4cc2-4ab2-435c-bfcc-6fa5b42c7953",
   "metadata": {},
   "outputs": [
    {
     "name": "stdout",
     "output_type": "stream",
     "text": [
      "bo:  -78730915.15364666\n",
      "b1:  [39105.70488833 91450.36875289]\n"
     ]
    }
   ],
   "source": [
    "#create regression object and train it using selected variables\n",
    "\n",
    "lm = LinearRegression()\n",
    "\n",
    "lm.fit(Z, df['Selling Price'])\n",
    "\n",
    "print('bo: ',lm.intercept_)\n",
    "print('b1: ',lm.coef_)"
   ]
  },
  {
   "cell_type": "markdown",
   "id": "7873a4bc-7dbd-4a1d-b132-c9dafd3704da",
   "metadata": {},
   "source": [
    "the regression model function is Price = -78730915.15364666 + 39105.70488833*Year + 91450.36875289*Car Condition"
   ]
  },
  {
   "cell_type": "code",
   "execution_count": 12,
   "id": "795b22e6-9cb9-40df-926d-63c10d751457",
   "metadata": {},
   "outputs": [],
   "source": [
    "#import required libraries\n",
    "\n",
    "import matplotlib.pyplot as plt\n",
    "import seaborn as sns\n",
    "%matplotlib inline "
   ]
  },
  {
   "cell_type": "code",
   "execution_count": 30,
   "id": "d09f3751-9a65-489f-b38c-2b2c540b4896",
   "metadata": {},
   "outputs": [],
   "source": [
    "#make prediction using training independent values\n",
    "\n",
    "Y_hat = lm.predict(Z)"
   ]
  },
  {
   "cell_type": "markdown",
   "id": "bef11f8a-a460-43ed-9aec-6a4689833400",
   "metadata": {},
   "source": [
    "We can't create regression plot or residual plot for multiple linear regression, so we use distribution plot instead."
   ]
  },
  {
   "cell_type": "code",
   "execution_count": 29,
   "id": "3f57e5aa-a9d0-444c-b476-f76f6b930771",
   "metadata": {},
   "outputs": [
    {
     "data": {
      "image/png": "[encoded data removed]",
      "text/plain": [
       "<Figure size 864x720 with 1 Axes>"
      ]
     },
     "metadata": {
      "needs_background": "light"
     },
     "output_type": "display_data"
    }
   ],
   "source": [
    "#plot distribution plot to know if our model is appropriate\n",
    "\n",
    "plt.figure(figsize=(12, 10))\n",
    "\n",
    "ax1 = sns.distplot(df['Selling Price'], hist=False, color=\"r\", label=\"Actual Value\")\n",
    "sns.distplot(Y_hat, hist=False, color=\"b\", label=\"Predicted Values\" , ax=ax1)\n",
    "\n",
    "plt.title('Actual vs Predicted Values for Selling Price')\n",
    "plt.xlabel('Car Selling Price')\n",
    "plt.ylabel('Proportion of Cars')\n",
    "\n",
    "plt.show()\n",
    "plt.close()"
   ]
  },
  {
   "cell_type": "markdown",
   "id": "51037948-6fce-4d78-bf19-eadcfffd7063",
   "metadata": {},
   "source": [
    "The predicted value distribution is kind of close to actual data value, but more improvement is needed."
   ]
  },
  {
   "cell_type": "markdown",
   "id": "d096cd46-b4f2-44a0-abd8-01f9d663d07b",
   "metadata": {},
   "source": [
    "Let's also include Kilometers Driven to second regression model"
   ]
  },
  {
   "cell_type": "code",
   "execution_count": 27,
   "id": "300d77e4-0349-4121-8476-98e6689b79ad",
   "metadata": {},
   "outputs": [],
   "source": [
    "#make the second regression model\n",
    "\n",
    "Z1 = df[['Kilometers Driven', 'Year', 'Car Condition']]\n",
    "lm1 = LinearRegression()\n",
    "lm1.fit(Z1, df['Selling Price'])\n",
    "Y_hat1 = lm1.predict(Z1)"
   ]
  },
  {
   "cell_type": "code",
   "execution_count": 28,
   "id": "7296a8b9-51af-4237-a559-6b94a71d3f83",
   "metadata": {},
   "outputs": [
    {
     "data": {
      "image/png": "[encoded data removed]",
      "text/plain": [
       "<Figure size 864x720 with 1 Axes>"
      ]
     },
     "metadata": {
      "needs_background": "light"
     },
     "output_type": "display_data"
    }
   ],
   "source": [
    "#plot distribution plot to know if our model is appropriate\n",
    "\n",
    "plt.figure(figsize=(12, 10))\n",
    "\n",
    "ax1 = sns.distplot(df['Selling Price'], hist=False, color=\"r\", label=\"Actual Value\")\n",
    "sns.distplot(Y_hat1, hist=False, color=\"b\", label=\"Predicted Values\" , ax=ax1)\n",
    "\n",
    "plt.title('Actual vs Predicted Values for Selling Price')\n",
    "plt.xlabel('Car Selling Price')\n",
    "plt.ylabel('Proportion of Cars')\n",
    "\n",
    "plt.show()\n",
    "plt.close()"
   ]
  },
  {
   "cell_type": "markdown",
   "id": "c521a7c1-f4fc-4a60-8e67-d775968e7163",
   "metadata": {},
   "source": [
    "The predicted value distribution is closer to actual data value, but still more improvement is needed."
   ]
  },
  {
   "cell_type": "code",
   "execution_count": 21,
   "id": "2308ae6c-0383-4c66-8c1e-0d88ac1b9ffe",
   "metadata": {},
   "outputs": [
    {
     "name": "stdout",
     "output_type": "stream",
     "text": [
      "R-square of the first model:  0.3305739519156743\n",
      "R-square of the second model:  0.34355259718213094\n"
     ]
    }
   ],
   "source": [
    "#print R-square for in-sample measures\n",
    "\n",
    "print('R-square of the first model: ', lm.score(Z, df['Selling Price']))\n",
    "print('R-square of the second model: ', lm1.score(Z1, df['Selling Price']))"
   ]
  },
  {
   "cell_type": "code",
   "execution_count": 25,
   "id": "a51244dc-bca6-4e07-818d-333634f679ff",
   "metadata": {},
   "outputs": [
    {
     "name": "stdout",
     "output_type": "stream",
     "text": [
      "Mean Square Error of the first model:  34799632058.08121\n",
      "Mean Square Error of the second model:  34124946510.39819\n"
     ]
    }
   ],
   "source": [
    "#print MSE for in-sample measures\n",
    "\n",
    "from sklearn.metrics import mean_squared_error\n",
    "\n",
    "mse = mean_squared_error(df['Selling Price'], Y_hat)\n",
    "mse1 = mean_squared_error(df['Selling Price'], Y_hat1)\n",
    "print('Mean Square Error of the first model: ', mse)\n",
    "print('Mean Square Error of the second model: ', mse1)"
   ]
  },
  {
   "cell_type": "markdown",
   "id": "24db7662-6f20-48f8-bb7c-61b1261969a7",
   "metadata": {},
   "source": [
    "From in-sample evaluation above we can conclude that the second model is better because it has higher R-square and lower MSE."
   ]
  },
  {
   "cell_type": "markdown",
   "id": "c354b4b8-c0c0-4ba1-bc05-37051a89cdd3",
   "metadata": {},
   "source": [
    "Created by Muhammad Ilham"
   ]
  }
 ],
 "metadata": {
  "kernelspec": {
   "display_name": "Python 3 (ipykernel)",
   "language": "python",
   "name": "python3"
  },
  "language_info": {
   "codemirror_mode": {
    "name": "ipython",
    "version": 3
   },
   "file_extension": ".py",
   "mimetype": "text/x-python",
   "name": "python",
   "nbconvert_exporter": "python",
   "pygments_lexer": "ipython3",
   "version": "3.10.1"
  }
 },
 "nbformat": 4,
 "nbformat_minor": 5
}
