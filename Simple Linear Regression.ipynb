{
 "cells": [
  {
   "cell_type": "markdown",
   "id": "ad5fd7ce-2e4a-4f67-b9fd-e93fe3925c4b",
   "metadata": {},
   "source": [
    "# Simple Linear Regression"
   ]
  },
  {
   "cell_type": "markdown",
   "id": "b258c5ff-c4e4-4ee1-8726-11d4b82ca3fc",
   "metadata": {},
   "source": [
    "I will use Used Car Price Data from www.kaggle.com/ankits29/used-car-price-data to do simple linear regression."
   ]
  },
  {
   "cell_type": "code",
   "execution_count": 23,
   "id": "0b399ff6-074f-44c7-bb14-9ae0f0b6c0a0",
   "metadata": {},
   "outputs": [],
   "source": [
    "#import required libraries\n",
    "\n",
    "import pandas as pd"
   ]
  },
  {
   "cell_type": "code",
   "execution_count": 24,
   "id": "2cacea4f-b75a-4bcd-8a0f-82e82ba5d99b",
   "metadata": {},
   "outputs": [],
   "source": [
    "#read the data .csv file\n",
    "\n",
    "df = pd.read_csv('car_data.csv')"
   ]
  },
  {
   "cell_type": "code",
   "execution_count": 25,
   "id": "52fe0eb7-43d9-4563-8a0c-dfd718864bdd",
   "metadata": {},
   "outputs": [
    {
     "data": {
      "text/html": [
       "<div>\n",
       "<style scoped>\n",
       "    .dataframe tbody tr th:only-of-type {\n",
       "        vertical-align: middle;\n",
       "    }\n",
       "\n",
       "    .dataframe tbody tr th {\n",
       "        vertical-align: top;\n",
       "    }\n",
       "\n",
       "    .dataframe thead th {\n",
       "        text-align: right;\n",
       "    }\n",
       "</style>\n",
       "<table border=\"1\" class=\"dataframe\">\n",
       "  <thead>\n",
       "    <tr style=\"text-align: right;\">\n",
       "      <th></th>\n",
       "      <th>Model</th>\n",
       "      <th>Selling Price</th>\n",
       "      <th>Kilometers Driven</th>\n",
       "      <th>Year</th>\n",
       "      <th>Owner</th>\n",
       "      <th>Fuel Type</th>\n",
       "      <th>Transmission</th>\n",
       "      <th>Insurance</th>\n",
       "      <th>Car Condition</th>\n",
       "    </tr>\n",
       "  </thead>\n",
       "  <tbody>\n",
       "    <tr>\n",
       "      <th>0</th>\n",
       "      <td>MarutiWagonR1.0LXI</td>\n",
       "      <td>312165</td>\n",
       "      <td>82238</td>\n",
       "      <td>2014</td>\n",
       "      <td>First Owner</td>\n",
       "      <td>Petrol + CNG</td>\n",
       "      <td>MANUAL</td>\n",
       "      <td>Expired</td>\n",
       "      <td>4.2</td>\n",
       "    </tr>\n",
       "    <tr>\n",
       "      <th>1</th>\n",
       "      <td>ToyotaEtiosLiva</td>\n",
       "      <td>313799</td>\n",
       "      <td>30558</td>\n",
       "      <td>2013</td>\n",
       "      <td>First Owner</td>\n",
       "      <td>Petrol</td>\n",
       "      <td>MANUAL</td>\n",
       "      <td>12-09-2021</td>\n",
       "      <td>4.4</td>\n",
       "    </tr>\n",
       "    <tr>\n",
       "      <th>2</th>\n",
       "      <td>MarutiAlto800</td>\n",
       "      <td>295999</td>\n",
       "      <td>22164</td>\n",
       "      <td>2018</td>\n",
       "      <td>First Owner</td>\n",
       "      <td>Petrol</td>\n",
       "      <td>MANUAL</td>\n",
       "      <td>01-12-2020</td>\n",
       "      <td>4.8</td>\n",
       "    </tr>\n",
       "    <tr>\n",
       "      <th>3</th>\n",
       "      <td>MarutiSwift</td>\n",
       "      <td>435199</td>\n",
       "      <td>30535</td>\n",
       "      <td>2013</td>\n",
       "      <td>First Owner</td>\n",
       "      <td>Diesel</td>\n",
       "      <td>MANUAL</td>\n",
       "      <td>Comp</td>\n",
       "      <td>4.3</td>\n",
       "    </tr>\n",
       "    <tr>\n",
       "      <th>4</th>\n",
       "      <td>MarutiWagonR1.0</td>\n",
       "      <td>289099</td>\n",
       "      <td>15738</td>\n",
       "      <td>2013</td>\n",
       "      <td>First Owner</td>\n",
       "      <td>Petrol</td>\n",
       "      <td>MANUAL</td>\n",
       "      <td>11-08-2021</td>\n",
       "      <td>4.3</td>\n",
       "    </tr>\n",
       "  </tbody>\n",
       "</table>\n",
       "</div>"
      ],
      "text/plain": [
       "                Model  Selling Price  Kilometers Driven  Year        Owner  \\\n",
       "0  MarutiWagonR1.0LXI         312165              82238  2014  First Owner   \n",
       "1     ToyotaEtiosLiva         313799              30558  2013  First Owner   \n",
       "2       MarutiAlto800         295999              22164  2018  First Owner   \n",
       "3         MarutiSwift         435199              30535  2013  First Owner   \n",
       "4     MarutiWagonR1.0         289099              15738  2013  First Owner   \n",
       "\n",
       "      Fuel Type Transmission   Insurance  Car Condition  \n",
       "0  Petrol + CNG       MANUAL     Expired            4.2  \n",
       "1        Petrol       MANUAL  12-09-2021            4.4  \n",
       "2        Petrol       MANUAL  01-12-2020            4.8  \n",
       "3        Diesel       MANUAL        Comp            4.3  \n",
       "4        Petrol       MANUAL  11-08-2021            4.3  "
      ]
     },
     "execution_count": 25,
     "metadata": {},
     "output_type": "execute_result"
    }
   ],
   "source": [
    "#see the data head\n",
    "\n",
    "pd.set_option('display.max_columns', None)\n",
    "df.head()"
   ]
  },
  {
   "cell_type": "code",
   "execution_count": 26,
   "id": "8c13554f-55d8-4f50-88c9-0be833b886f9",
   "metadata": {},
   "outputs": [
    {
     "data": {
      "text/plain": [
       "(2237, 9)"
      ]
     },
     "execution_count": 26,
     "metadata": {},
     "output_type": "execute_result"
    }
   ],
   "source": [
    "#see how many rows there are\n",
    "\n",
    "df.shape"
   ]
  },
  {
   "cell_type": "code",
   "execution_count": 27,
   "id": "86c1a220-c031-47cb-a611-d51feed12e09",
   "metadata": {},
   "outputs": [],
   "source": [
    "#drop duplicates\n",
    "\n",
    "df.drop_duplicates(inplace=True)"
   ]
  },
  {
   "cell_type": "code",
   "execution_count": 28,
   "id": "80cfb179-f43a-4c8f-8e83-13c4d7da47e0",
   "metadata": {},
   "outputs": [
    {
     "data": {
      "text/plain": [
       "(2237, 9)"
      ]
     },
     "execution_count": 28,
     "metadata": {},
     "output_type": "execute_result"
    }
   ],
   "source": [
    "#see how many rows there are after duplicates dropped\n",
    "\n",
    "df.shape"
   ]
  },
  {
   "cell_type": "code",
   "execution_count": 29,
   "id": "59823146-bbdb-4966-a782-4ab74c432f42",
   "metadata": {},
   "outputs": [
    {
     "data": {
      "text/html": [
       "<div>\n",
       "<style scoped>\n",
       "    .dataframe tbody tr th:only-of-type {\n",
       "        vertical-align: middle;\n",
       "    }\n",
       "\n",
       "    .dataframe tbody tr th {\n",
       "        vertical-align: top;\n",
       "    }\n",
       "\n",
       "    .dataframe thead th {\n",
       "        text-align: right;\n",
       "    }\n",
       "</style>\n",
       "<table border=\"1\" class=\"dataframe\">\n",
       "  <thead>\n",
       "    <tr style=\"text-align: right;\">\n",
       "      <th></th>\n",
       "      <th>Selling Price</th>\n",
       "      <th>Kilometers Driven</th>\n",
       "      <th>Year</th>\n",
       "      <th>Car Condition</th>\n",
       "    </tr>\n",
       "  </thead>\n",
       "  <tbody>\n",
       "    <tr>\n",
       "      <th>Selling Price</th>\n",
       "      <td>1.000000</td>\n",
       "      <td>-0.163254</td>\n",
       "      <td>0.568156</td>\n",
       "      <td>0.435813</td>\n",
       "    </tr>\n",
       "    <tr>\n",
       "      <th>Kilometers Driven</th>\n",
       "      <td>-0.163254</td>\n",
       "      <td>1.000000</td>\n",
       "      <td>-0.427502</td>\n",
       "      <td>-0.450421</td>\n",
       "    </tr>\n",
       "    <tr>\n",
       "      <th>Year</th>\n",
       "      <td>0.568156</td>\n",
       "      <td>-0.427502</td>\n",
       "      <td>1.000000</td>\n",
       "      <td>0.649011</td>\n",
       "    </tr>\n",
       "    <tr>\n",
       "      <th>Car Condition</th>\n",
       "      <td>0.435813</td>\n",
       "      <td>-0.450421</td>\n",
       "      <td>0.649011</td>\n",
       "      <td>1.000000</td>\n",
       "    </tr>\n",
       "  </tbody>\n",
       "</table>\n",
       "</div>"
      ],
      "text/plain": [
       "                   Selling Price  Kilometers Driven      Year  Car Condition\n",
       "Selling Price           1.000000          -0.163254  0.568156       0.435813\n",
       "Kilometers Driven      -0.163254           1.000000 -0.427502      -0.450421\n",
       "Year                    0.568156          -0.427502  1.000000       0.649011\n",
       "Car Condition           0.435813          -0.450421  0.649011       1.000000"
      ]
     },
     "execution_count": 29,
     "metadata": {},
     "output_type": "execute_result"
    }
   ],
   "source": [
    "#see correlation between variables\n",
    "\n",
    "df.corr()"
   ]
  },
  {
   "cell_type": "markdown",
   "id": "6ee18b86-5b17-460d-997f-abab282fa81d",
   "metadata": {},
   "source": [
    "For this simple linear regression. let's use indpendent variable with highest correlation 'Year'."
   ]
  },
  {
   "cell_type": "code",
   "execution_count": 30,
   "id": "cadd821d-b10b-4a8f-9c1e-ac0dc97b799c",
   "metadata": {},
   "outputs": [],
   "source": [
    "#import required libraries\n",
    "\n",
    "from sklearn.linear_model import LinearRegression"
   ]
  },
  {
   "cell_type": "code",
   "execution_count": 31,
   "id": "7ab307b9-9aca-42a7-9db3-02bc238f76af",
   "metadata": {},
   "outputs": [
    {
     "name": "stdout",
     "output_type": "stream",
     "text": [
      "bo:  -90346589.0282325\n",
      "b1:  [45072.33897107]\n"
     ]
    }
   ],
   "source": [
    "#make regression object and see the regression model function\n",
    "\n",
    "lm = LinearRegression()\n",
    "\n",
    "X = df[['Year']]\n",
    "Y = df['Selling Price']\n",
    "\n",
    "lm.fit(X,Y)\n",
    "\n",
    "print('bo: ',lm.intercept_)\n",
    "print('b1: ',lm.coef_)"
   ]
  },
  {
   "cell_type": "markdown",
   "id": "d364a8f8-9de2-47c4-8709-419fb86863f7",
   "metadata": {},
   "source": [
    "the regression model function is Price = -90346589.0282325 + 45072.33897107*Year"
   ]
  },
  {
   "cell_type": "code",
   "execution_count": 32,
   "id": "ac221ac0-8c55-45c5-86f8-bcee536f872b",
   "metadata": {},
   "outputs": [],
   "source": [
    "#import required libraries\n",
    "\n",
    "import matplotlib.pyplot as plt\n",
    "import seaborn as sns\n",
    "%matplotlib inline "
   ]
  },
  {
   "cell_type": "code",
   "execution_count": 33,
   "id": "a2c452e2-5560-4c58-89f8-7d3009a56786",
   "metadata": {},
   "outputs": [
    {
     "data": {
      "text/plain": [
       "(0.0, 2049174.8463791332)"
      ]
     },
     "execution_count": 33,
     "metadata": {},
     "output_type": "execute_result"
    },
    {
     "data": {
      "image/png": "[encoded data removed]",
      "text/plain": [
       "<Figure size 864x720 with 1 Axes>"
      ]
     },
     "metadata": {
      "needs_background": "light"
     },
     "output_type": "display_data"
    }
   ],
   "source": [
    "#plot the regression plot\n",
    "\n",
    "plt.figure(figsize=(12, 10))\n",
    "sns.regplot(x=\"Year\", y=\"Selling Price\", data=df)\n",
    "plt.ylim(0,)"
   ]
  },
  {
   "cell_type": "code",
   "execution_count": 34,
   "id": "e5bc418a-abac-447e-b80e-6ab0553443cd",
   "metadata": {},
   "outputs": [
    {
     "data": {
      "image/png": "[encoded data removed]",
      "text/plain": [
       "<Figure size 864x720 with 1 Axes>"
      ]
     },
     "metadata": {
      "needs_background": "light"
     },
     "output_type": "display_data"
    }
   ],
   "source": [
    "#plot residual plot to know if our model is appropriate\n",
    "\n",
    "plt.figure(figsize=(12, 10))\n",
    "sns.residplot(x=\"Year\", y=\"Selling Price\", data=df)\n",
    "plt.show()"
   ]
  },
  {
   "cell_type": "markdown",
   "id": "1e9b3f8d-3294-436e-821b-1496503d3891",
   "metadata": {},
   "source": [
    "From resdual plot above we can see that residuals are not randomly spread, the variance tends to be higher with later models. Maybe non-linear model is more appropriate for this case."
   ]
  },
  {
   "cell_type": "code",
   "execution_count": 35,
   "id": "0a6440bc-e934-4282-b2a7-546ec2ee70fc",
   "metadata": {},
   "outputs": [
    {
     "name": "stdout",
     "output_type": "stream",
     "text": [
      "R-square:  0.3228009884925541\n"
     ]
    }
   ],
   "source": [
    "#print R-square for in-sample measures\n",
    "\n",
    "print('R-square: ', lm.score(X, Y))"
   ]
  },
  {
   "cell_type": "markdown",
   "id": "a7592265-c466-4e03-8d6a-24390130254d",
   "metadata": {},
   "source": [
    "The R-square of this model is not very good with simple linear regression model."
   ]
  },
  {
   "cell_type": "code",
   "execution_count": 36,
   "id": "41a96670-104c-4f0f-a3bf-1856bce2ac6e",
   "metadata": {},
   "outputs": [
    {
     "name": "stdout",
     "output_type": "stream",
     "text": [
      "Mean Square Error:  35203703975.957085\n"
     ]
    }
   ],
   "source": [
    "#print MSE for in-sample measures\n",
    "\n",
    "from sklearn.metrics import mean_squared_error\n",
    "\n",
    "Yhat=lm.predict(X)\n",
    "\n",
    "mse = mean_squared_error(df['Selling Price'], Yhat)\n",
    "print('Mean Square Error: ', mse)"
   ]
  },
  {
   "cell_type": "markdown",
   "id": "68fd045d-6f7b-4fa2-9628-a7bb095b7d69",
   "metadata": {},
   "source": [
    "Created by Muhammad Ilham"
   ]
  }
 ],
 "metadata": {
  "kernelspec": {
   "display_name": "Python 3 (ipykernel)",
   "language": "python",
   "name": "python3"
  },
  "language_info": {
   "codemirror_mode": {
    "name": "ipython",
    "version": 3
   },
   "file_extension": ".py",
   "mimetype": "text/x-python",
   "name": "python",
   "nbconvert_exporter": "python",
   "pygments_lexer": "ipython3",
   "version": "3.10.1"
  }
 },
 "nbformat": 4,
 "nbformat_minor": 5
}
