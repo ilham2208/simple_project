{
 "cells": [
  {
   "cell_type": "markdown",
   "id": "73b4bd53-e76a-414f-b715-99db2edd22cf",
   "metadata": {},
   "source": [
    "# Webscraping Data Using Python"
   ]
  },
  {
   "cell_type": "markdown",
   "id": "ffb799ee-e00e-47a4-8523-c5eee967fdb3",
   "metadata": {},
   "source": [
    "In this notebook I will demonstrate extracting data from the tables on the web then save them in their own excel worksheet using python. I will use OECD page from wikipedia for this notebook."
   ]
  },
  {
   "cell_type": "markdown",
   "id": "7dc39452-2716-41ce-885e-1ff694500c9a",
   "metadata": {},
   "source": [
    "# 1. Import Required Libraries"
   ]
  },
  {
   "cell_type": "code",
   "execution_count": 6,
   "id": "a5418a78-942e-4429-9c28-387df65bd918",
   "metadata": {},
   "outputs": [],
   "source": [
    "#install required excel libraries\n",
    "\n",
    "#pip install xlsxwriter\n",
    "#pip install xlwt"
   ]
  },
  {
   "cell_type": "code",
   "execution_count": 1,
   "id": "596f1a64-97d0-43e9-a3a9-c7c8f7e4d4d7",
   "metadata": {},
   "outputs": [],
   "source": [
    "#import required libraries\n",
    "\n",
    "import pandas as pd\n",
    "import requests\n",
    "from bs4 import BeautifulSoup"
   ]
  },
  {
   "cell_type": "markdown",
   "id": "7e99cd70-4ded-4608-a2d5-10c4137089a2",
   "metadata": {},
   "source": [
    "# 2. Webscraping"
   ]
  },
  {
   "cell_type": "code",
   "execution_count": 2,
   "id": "a8ce6fd5-3adf-4757-9781-4e4624112c3f",
   "metadata": {},
   "outputs": [],
   "source": [
    "#insert url and assign to html_data variable\n",
    "\n",
    "url = 'https://en.wikipedia.org/wiki/OECD'\n",
    "\n",
    "html_data = requests.get(url).text"
   ]
  },
  {
   "cell_type": "code",
   "execution_count": 3,
   "id": "f457bf0c-a51b-4c86-a1bb-88040ce1768c",
   "metadata": {},
   "outputs": [],
   "source": [
    "#make soup object\n",
    "\n",
    "soup = BeautifulSoup(html_data, 'html5lib')"
   ]
  },
  {
   "cell_type": "code",
   "execution_count": 4,
   "id": "42fc41da-2de4-4328-8cbe-465208ddd59a",
   "metadata": {},
   "outputs": [],
   "source": [
    "tables = soup.find_all('tbody')\n",
    "tabc = len(tables)"
   ]
  },
  {
   "cell_type": "code",
   "execution_count": 5,
   "id": "7ed9c4fa-755d-4419-a8b0-50856ab64750",
   "metadata": {},
   "outputs": [],
   "source": [
    "writer = pd.ExcelWriter('dataframes.xlsx', engine='xlsxwriter')\n",
    "\n",
    "lists = []\n",
    "for y in range (tabc):\n",
    "    lists.append(str(y))\n",
    "\n",
    "for i in range (tabc):\n",
    "    tab = pd.read_html(url, flavor='bs4')[i]\n",
    "    tab.to_excel(writer, sheet_name=lists[i])\n",
    "    y = y+1\n",
    "    \n",
    "writer.save()"
   ]
  },
  {
   "cell_type": "markdown",
   "id": "f806b22d-b887-453c-8ba8-f2dc2061e0e3",
   "metadata": {},
   "source": [
    "Created by Muhammad Ilham"
   ]
  }
 ],
 "metadata": {
  "kernelspec": {
   "display_name": "Python 3 (ipykernel)",
   "language": "python",
   "name": "python3"
  },
  "language_info": {
   "codemirror_mode": {
    "name": "ipython",
    "version": 3
   },
   "file_extension": ".py",
   "mimetype": "text/x-python",
   "name": "python",
   "nbconvert_exporter": "python",
   "pygments_lexer": "ipython3",
   "version": "3.10.1"
  }
 },
 "nbformat": 4,
 "nbformat_minor": 5
}
